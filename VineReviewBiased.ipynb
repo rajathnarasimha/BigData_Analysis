{
  "nbformat": 4,
  "nbformat_minor": 0,
  "metadata": {
    "colab": {
      "name": "VineReviewBiased.ipynb",
      "provenance": [],
      "collapsed_sections": []
    },
    "kernelspec": {
      "name": "python3",
      "display_name": "Python 3"
    }
  },
  "cells": [
    {
      "cell_type": "code",
      "metadata": {
        "id": "VlOAO-RWDZRB",
        "colab_type": "code",
        "colab": {}
      },
      "source": [
        "# Install Java, Spark, and Findspark\n",
        "!apt-get install openjdk-8-jdk-headless -qq > /dev/null\n",
        "!wget -q http://www-us.apache.org/dist/spark/spark-2.4.5/spark-2.4.5-bin-hadoop2.7.tgz\n",
        "!tar xf spark-2.4.5-bin-hadoop2.7.tgz\n",
        "!pip install -q findspark\n",
        "# Set Environment Variables\n",
        "import os\n",
        "os.environ[\"JAVA_HOME\"] = \"/usr/lib/jvm/java-8-openjdk-amd64\"\n",
        "os.environ[\"SPARK_HOME\"] = \"/content/spark-2.4.5-bin-hadoop2.7\"\n",
        "# Start a SparkSession\n",
        "import findspark\n",
        "findspark.init()"
      ],
      "execution_count": 0,
      "outputs": []
    },
    {
      "cell_type": "code",
      "metadata": {
        "id": "NFAg5QuXDft2",
        "colab_type": "code",
        "colab": {}
      },
      "source": [
        "# Start Spark session\n",
        "from pyspark.sql import SparkSession\n",
        "spark = SparkSession.builder.appName(\"Vine_Review_Analysis\").getOrCreate()"
      ],
      "execution_count": 0,
      "outputs": []
    },
    {
      "cell_type": "code",
      "metadata": {
        "id": "4zlrYth1DkRd",
        "colab_type": "code",
        "colab": {
          "base_uri": "https://localhost:8080/",
          "height": 459
        },
        "outputId": "26a6668e-3b52-49c4-8d8e-a3b329a6adf1"
      },
      "source": [
        "# Read in data from S3 Buckets\n",
        "from pyspark import SparkFiles\n",
        "url =\"https://shruthiramu-bucket.s3.us-east-2.amazonaws.com/vine_table.csv\"\n",
        "spark.sparkContext.addFile(url)\n",
        "df = spark.read.csv(SparkFiles.get(\"vine_table.csv\"), sep=\",\", header=True)\n",
        "\n",
        "# Show DataFrame\n",
        "df.show()"
      ],
      "execution_count": 143,
      "outputs": [
        {
          "output_type": "stream",
          "text": [
            "+--------------+-----------+-------------+-----------+----+\n",
            "|     review_id|star_rating|helpful_votes|total_votes|vine|\n",
            "+--------------+-----------+-------------+-----------+----+\n",
            "|R3M9TEU08WAIQX|          5|            1|          1|   N|\n",
            "|R2LTQL3SBKSYXW|          5|            3|          3|   N|\n",
            "| R9XEAJEQ7X9TH|          5|            0|          0|   N|\n",
            "|R36PUUGYGKC3GQ|          5|            0|          0|   N|\n",
            "|R1ZDB2ZTQK6OO0|          1|            0|          1|   N|\n",
            "|R1T64YX8QZQ97D|          5|            0|          0|   N|\n",
            "|R2680XB05IT0WN|          3|            0|          0|   N|\n",
            "|R3M54S76EJCQVR|          5|            0|          0|   N|\n",
            "|R2RDS2RJET8H64|          5|            1|          1|   N|\n",
            "| R9A1FY6DUKVLS|          4|            0|          0|   N|\n",
            "|R193N6SEL5WKGE|          1|            0|          0|   N|\n",
            "|R2YRKSXPT5PG35|          5|            0|          0|   N|\n",
            "|R1GU2Z7C1V1NEG|          5|            0|          0|   N|\n",
            "| R9993YL87NHTQ|          5|            1|          1|   N|\n",
            "|R38OYHFA0P1PAF|          5|           14|         15|   N|\n",
            "|R12REXBQ1TK0PG|          5|            1|          1|   N|\n",
            "| R7SC4UY44OM7X|          5|            5|          8|   N|\n",
            "|R3MMRZ6HLBVEFY|          5|            0|          0|   N|\n",
            "| RPZFU6F8BJ1IA|          5|            0|          0|   N|\n",
            "|R326GY3LLG96B8|          4|            1|          6|   N|\n",
            "+--------------+-----------+-------------+-----------+----+\n",
            "only showing top 20 rows\n",
            "\n"
          ],
          "name": "stdout"
        }
      ]
    },
    {
      "cell_type": "code",
      "metadata": {
        "id": "CNmd525Q9e29",
        "colab_type": "code",
        "colab": {
          "base_uri": "https://localhost:8080/",
          "height": 289
        },
        "outputId": "53d8c1c6-e156-4a9f-b4bb-6eb999785926"
      },
      "source": [
        "#Rule: Consider reviews which have more than 0 helpful_votes and total_votes\n",
        "df_votes_df = df.filter((df.helpful_votes > 0)& (df.total_votes > 0))\n",
        "df_votes_df.show(10)"
      ],
      "execution_count": 144,
      "outputs": [
        {
          "output_type": "stream",
          "text": [
            "+--------------+-----------+-------------+-----------+----+\n",
            "|     review_id|star_rating|helpful_votes|total_votes|vine|\n",
            "+--------------+-----------+-------------+-----------+----+\n",
            "|R3M9TEU08WAIQX|          5|            1|          1|   N|\n",
            "|R2LTQL3SBKSYXW|          5|            3|          3|   N|\n",
            "|R2RDS2RJET8H64|          5|            1|          1|   N|\n",
            "| R9993YL87NHTQ|          5|            1|          1|   N|\n",
            "|R38OYHFA0P1PAF|          5|           14|         15|   N|\n",
            "|R12REXBQ1TK0PG|          5|            1|          1|   N|\n",
            "| R7SC4UY44OM7X|          5|            5|          8|   N|\n",
            "|R326GY3LLG96B8|          4|            1|          6|   N|\n",
            "| RAQGBP7QUSYLV|          1|            5|         12|   N|\n",
            "|R14TPP4CJCASWX|          2|            1|          3|   N|\n",
            "+--------------+-----------+-------------+-----------+----+\n",
            "only showing top 10 rows\n",
            "\n"
          ],
          "name": "stdout"
        }
      ]
    },
    {
      "cell_type": "code",
      "metadata": {
        "id": "nrux7EPZXYpT",
        "colab_type": "code",
        "colab": {
          "base_uri": "https://localhost:8080/",
          "height": 34
        },
        "outputId": "77c2564f-bbf8-4f54-e3b5-47b1cfaa4e6b"
      },
      "source": [
        "#Total reviews with more than 0 helpful_votes and total_votes in the dataset is..\n",
        "df_votes_df.count()"
      ],
      "execution_count": 145,
      "outputs": [
        {
          "output_type": "execute_result",
          "data": {
            "text/plain": [
              "84270"
            ]
          },
          "metadata": {
            "tags": []
          },
          "execution_count": 145
        }
      ]
    },
    {
      "cell_type": "code",
      "metadata": {
        "id": "dPHwIxZCYV1U",
        "colab_type": "code",
        "colab": {
          "base_uri": "https://localhost:8080/",
          "height": 34
        },
        "outputId": "49b1db45-8f9d-406c-f453-433bdf31c24b"
      },
      "source": [
        "#Total 5 start reviews including both vine and non vine:\n",
        "df_votes_df.filter(df_votes_df.star_rating == \"5\").count()"
      ],
      "execution_count": 146,
      "outputs": [
        {
          "output_type": "execute_result",
          "data": {
            "text/plain": [
              "43027"
            ]
          },
          "metadata": {
            "tags": []
          },
          "execution_count": 146
        }
      ]
    },
    {
      "cell_type": "code",
      "metadata": {
        "id": "LkCZV-3jXHVv",
        "colab_type": "code",
        "colab": {
          "base_uri": "https://localhost:8080/",
          "height": 34
        },
        "outputId": "872bc195-3e9a-4b7e-d454-43a8f3b3957b"
      },
      "source": [
        "#Number of Paid(vine) reviews are:\n",
        "df_vine_df = df_votes_df.filter(df_votes_df.vine == \"Y\")\n",
        "df_vine_df.count()"
      ],
      "execution_count": 147,
      "outputs": [
        {
          "output_type": "execute_result",
          "data": {
            "text/plain": [
              "70"
            ]
          },
          "metadata": {
            "tags": []
          },
          "execution_count": 147
        }
      ]
    },
    {
      "cell_type": "code",
      "metadata": {
        "id": "H1HIRuAgIn4G",
        "colab_type": "code",
        "colab": {
          "base_uri": "https://localhost:8080/",
          "height": 34
        },
        "outputId": "d586c9fc-5d2d-4d2f-d55e-63fa4bac05a1"
      },
      "source": [
        "#Number of Non paid(non vine)reviews are:\n",
        "df_non_vine_df = df_votes_df.filter(df.vine == \"N\")\n",
        "df_non_vine_df.count()"
      ],
      "execution_count": 148,
      "outputs": [
        {
          "output_type": "execute_result",
          "data": {
            "text/plain": [
              "84200"
            ]
          },
          "metadata": {
            "tags": []
          },
          "execution_count": 148
        }
      ]
    },
    {
      "cell_type": "code",
      "metadata": {
        "id": "kOrwb4veX5iZ",
        "colab_type": "code",
        "colab": {
          "base_uri": "https://localhost:8080/",
          "height": 34
        },
        "outputId": "4b854cc5-eb6d-4438-b5f7-cbae3c712ef2"
      },
      "source": [
        "#Number of Paid(vine) 5 star reviews are:\n",
        "df_vine_df.filter(df_vine_df.star_rating == \"5\").count()"
      ],
      "execution_count": 149,
      "outputs": [
        {
          "output_type": "execute_result",
          "data": {
            "text/plain": [
              "32"
            ]
          },
          "metadata": {
            "tags": []
          },
          "execution_count": 149
        }
      ]
    },
    {
      "cell_type": "code",
      "metadata": {
        "id": "hdCBFmkyYKxD",
        "colab_type": "code",
        "colab": {
          "base_uri": "https://localhost:8080/",
          "height": 34
        },
        "outputId": "6270edbd-7a2a-4506-9c32-d74be42f2f97"
      },
      "source": [
        "#Number of non - Paid(non - vine) 5 star reviews are:\n",
        "df_non_vine_df.filter(df_non_vine_df.star_rating == \"5\").count()"
      ],
      "execution_count": 150,
      "outputs": [
        {
          "output_type": "execute_result",
          "data": {
            "text/plain": [
              "42995"
            ]
          },
          "metadata": {
            "tags": []
          },
          "execution_count": 150
        }
      ]
    },
    {
      "cell_type": "code",
      "metadata": {
        "id": "96e7-uWDFVjr",
        "colab_type": "code",
        "colab": {
          "base_uri": "https://localhost:8080/",
          "height": 119
        },
        "outputId": "2a677d93-c8d3-4817-b8ea-54cb6eda5807"
      },
      "source": [
        "\n",
        "#Average rating vine reviews\n",
        "from pyspark.sql.functions import col, avg\n",
        "\n",
        "df_vine_df.filter(df_vine_df['vine'] == \"Y\").agg(avg(col(\"star_rating\"))).show()\n",
        "\n"
      ],
      "execution_count": 151,
      "outputs": [
        {
          "output_type": "stream",
          "text": [
            "+-----------------+\n",
            "| avg(star_rating)|\n",
            "+-----------------+\n",
            "|4.128571428571429|\n",
            "+-----------------+\n",
            "\n"
          ],
          "name": "stdout"
        }
      ]
    },
    {
      "cell_type": "code",
      "metadata": {
        "id": "Vf0J6j3WYw7a",
        "colab_type": "code",
        "colab": {
          "base_uri": "https://localhost:8080/",
          "height": 119
        },
        "outputId": "e8c60e29-c23a-48a0-d471-a298b87794ad"
      },
      "source": [
        "#Average rating non vine reviews\n",
        "df_non_vine_df.filter(df_non_vine_df['vine'] == \"N\").agg(avg(col(\"star_rating\"))).show()\n",
        "\n",
        "#Average rating for vine reviews is higher than average rating for non vine reviews."
      ],
      "execution_count": 152,
      "outputs": [
        {
          "output_type": "stream",
          "text": [
            "+------------------+\n",
            "|  avg(star_rating)|\n",
            "+------------------+\n",
            "|3.7149643705463182|\n",
            "+------------------+\n",
            "\n"
          ],
          "name": "stdout"
        }
      ]
    },
    {
      "cell_type": "code",
      "metadata": {
        "id": "a0YxuLZDY8Kh",
        "colab_type": "code",
        "colab": {
          "base_uri": "https://localhost:8080/",
          "height": 238
        },
        "outputId": "c0b628ad-3a2c-46d4-f9e8-236d37faf40c"
      },
      "source": [
        "#Number of helpful_votes in vine reviews:\n",
        "cleaned_df = df_vine_df.withColumn(\"helpful_votes\",df_vine_df[\"helpful_votes\"].cast('int'))\n",
        "\n",
        "cleaned_df.groupBy(\"helpful_votes\").sum().show()\n"
      ],
      "execution_count": 153,
      "outputs": [
        {
          "output_type": "stream",
          "text": [
            "+-------------+------------------+\n",
            "|helpful_votes|sum(helpful_votes)|\n",
            "+-------------+------------------+\n",
            "|            1|                37|\n",
            "|            6|                12|\n",
            "|            3|                15|\n",
            "|           20|                20|\n",
            "|            5|                20|\n",
            "|            4|                24|\n",
            "|            8|                 8|\n",
            "|            2|                28|\n",
            "+-------------+------------------+\n",
            "\n"
          ],
          "name": "stdout"
        }
      ]
    },
    {
      "cell_type": "code",
      "metadata": {
        "id": "XdJmrbspcR4a",
        "colab_type": "code",
        "colab": {
          "base_uri": "https://localhost:8080/",
          "height": 459
        },
        "outputId": "12e28f53-83b8-417c-83ee-c32c167dfcd8"
      },
      "source": [
        "#Number of helpful_votes in non vine reviews:\n",
        "cleaned_non_df = df_non_vine_df.withColumn(\"helpful_votes\",df_non_vine_df[\"helpful_votes\"].cast('int'))\n",
        "\n",
        "cleaned_non_df.groupBy(\"helpful_votes\").sum().show()\n",
        "#Helpful votes are higher for the non vine reviews and are more spread."
      ],
      "execution_count": 154,
      "outputs": [
        {
          "output_type": "stream",
          "text": [
            "+-------------+------------------+\n",
            "|helpful_votes|sum(helpful_votes)|\n",
            "+-------------+------------------+\n",
            "|          243|               243|\n",
            "|           31|              1829|\n",
            "|           85|               425|\n",
            "|          137|               137|\n",
            "|           65|               520|\n",
            "|           53|               371|\n",
            "|          133|               133|\n",
            "|           78|                78|\n",
            "|          108|               108|\n",
            "|           34|               782|\n",
            "|          126|               126|\n",
            "|          101|               202|\n",
            "|          115|               115|\n",
            "|           81|                81|\n",
            "|           28|              1680|\n",
            "|          300|               300|\n",
            "|           76|               380|\n",
            "|           27|              2025|\n",
            "|           26|              1898|\n",
            "|           44|               880|\n",
            "+-------------+------------------+\n",
            "only showing top 20 rows\n",
            "\n"
          ],
          "name": "stdout"
        }
      ]
    },
    {
      "cell_type": "code",
      "metadata": {
        "id": "emtvDE0hCoGh",
        "colab_type": "code",
        "colab": {
          "base_uri": "https://localhost:8080/",
          "height": 289
        },
        "outputId": "0e63bd3e-0cdd-41de-ceb0-8cfe76d26bd9"
      },
      "source": [
        "df_votes_df.show(10)"
      ],
      "execution_count": 155,
      "outputs": [
        {
          "output_type": "stream",
          "text": [
            "+--------------+-----------+-------------+-----------+----+\n",
            "|     review_id|star_rating|helpful_votes|total_votes|vine|\n",
            "+--------------+-----------+-------------+-----------+----+\n",
            "|R3M9TEU08WAIQX|          5|            1|          1|   N|\n",
            "|R2LTQL3SBKSYXW|          5|            3|          3|   N|\n",
            "|R2RDS2RJET8H64|          5|            1|          1|   N|\n",
            "| R9993YL87NHTQ|          5|            1|          1|   N|\n",
            "|R38OYHFA0P1PAF|          5|           14|         15|   N|\n",
            "|R12REXBQ1TK0PG|          5|            1|          1|   N|\n",
            "| R7SC4UY44OM7X|          5|            5|          8|   N|\n",
            "|R326GY3LLG96B8|          4|            1|          6|   N|\n",
            "| RAQGBP7QUSYLV|          1|            5|         12|   N|\n",
            "|R14TPP4CJCASWX|          2|            1|          3|   N|\n",
            "+--------------+-----------+-------------+-----------+----+\n",
            "only showing top 10 rows\n",
            "\n"
          ],
          "name": "stdout"
        }
      ]
    },
    {
      "cell_type": "code",
      "metadata": {
        "id": "kdx66yr7C5FP",
        "colab_type": "code",
        "colab": {
          "base_uri": "https://localhost:8080/",
          "height": 34
        },
        "outputId": "d0ca55a2-d367-4405-88b6-6bc918cf3342"
      },
      "source": [
        "df_votes_df.filter(df_votes_df.vine==\"Y\").count()"
      ],
      "execution_count": 156,
      "outputs": [
        {
          "output_type": "execute_result",
          "data": {
            "text/plain": [
              "70"
            ]
          },
          "metadata": {
            "tags": []
          },
          "execution_count": 156
        }
      ]
    },
    {
      "cell_type": "code",
      "metadata": {
        "id": "7kVptNIfDclC",
        "colab_type": "code",
        "colab": {}
      },
      "source": [
        "# Import functions\n",
        "from pyspark.ml.feature import Tokenizer, StopWordsRemover, HashingTF, IDF, StringIndexer, CountVectorizerModel"
      ],
      "execution_count": 0,
      "outputs": []
    },
    {
      "cell_type": "code",
      "metadata": {
        "id": "lwsE-o_DEd64",
        "colab_type": "code",
        "colab": {}
      },
      "source": [
        "pos_neg_to_num = StringIndexer(inputCol='vine',outputCol='label')\n",
        "\n",
        "tokenizer = Tokenizer(inputCol=\"star_rating\", outputCol=\"token_text\")\n",
        "\n",
        "hashingTF = HashingTF(inputCol=\"token_text\", outputCol='hash_token')\n",
        "\n",
        "idf = IDF(inputCol='hash_token', outputCol='features')"
      ],
      "execution_count": 0,
      "outputs": []
    },
    {
      "cell_type": "code",
      "metadata": {
        "id": "A8-jv5IJQJK4",
        "colab_type": "code",
        "colab": {}
      },
      "source": [
        "# Create and run a data processing Pipeline\n",
        "from pyspark.ml import Pipeline\n",
        "data_prep_pipeline = Pipeline(stages=[pos_neg_to_num, tokenizer, hashingTF, idf])"
      ],
      "execution_count": 0,
      "outputs": []
    },
    {
      "cell_type": "code",
      "metadata": {
        "id": "3F1Ipbv4QPUN",
        "colab_type": "code",
        "colab": {}
      },
      "source": [
        "# Fit and transform the pipeline\n",
        "cleaner = data_prep_pipeline.fit(df_votes_df)\n",
        "cleaned = cleaner.transform(df_votes_df)"
      ],
      "execution_count": 0,
      "outputs": []
    },
    {
      "cell_type": "code",
      "metadata": {
        "id": "ww1yaQpqVsPB",
        "colab_type": "code",
        "colab": {
          "base_uri": "https://localhost:8080/",
          "height": 459
        },
        "outputId": "72f3c420-12c2-45fe-ecf2-668adb63c5f0"
      },
      "source": [
        "cleaned.select([\"label\", \"features\"]).show(truncate=False)\n",
        "#Label 0.0 is here means it is a non-vine review"
      ],
      "execution_count": 161,
      "outputs": [
        {
          "output_type": "stream",
          "text": [
            "+-----+--------------------------------------+\n",
            "|label|features                              |\n",
            "+-----+--------------------------------------+\n",
            "|0.0  |(262144,[89689],[0.6721867297632954]) |\n",
            "|0.0  |(262144,[89689],[0.6721867297632954]) |\n",
            "|0.0  |(262144,[89689],[0.6721867297632954]) |\n",
            "|0.0  |(262144,[89689],[0.6721867297632954]) |\n",
            "|0.0  |(262144,[89689],[0.6721867297632954]) |\n",
            "|0.0  |(262144,[89689],[0.6721867297632954]) |\n",
            "|0.0  |(262144,[89689],[0.6721867297632954]) |\n",
            "|0.0  |(262144,[233878],[1.9651758437139097])|\n",
            "|0.0  |(262144,[236232],[1.687728883113754]) |\n",
            "|0.0  |(262144,[212053],[2.575242925768841]) |\n",
            "|0.0  |(262144,[89689],[0.6721867297632954]) |\n",
            "|0.0  |(262144,[89689],[0.6721867297632954]) |\n",
            "|0.0  |(262144,[236232],[1.687728883113754]) |\n",
            "|0.0  |(262144,[233878],[1.9651758437139097])|\n",
            "|0.0  |(262144,[236232],[1.687728883113754]) |\n",
            "|0.0  |(262144,[236232],[1.687728883113754]) |\n",
            "|0.0  |(262144,[89689],[0.6721867297632954]) |\n",
            "|0.0  |(262144,[89074],[2.4275702546118914]) |\n",
            "|0.0  |(262144,[233878],[1.9651758437139097])|\n",
            "|0.0  |(262144,[89689],[0.6721867297632954]) |\n",
            "+-----+--------------------------------------+\n",
            "only showing top 20 rows\n",
            "\n"
          ],
          "name": "stdout"
        }
      ]
    },
    {
      "cell_type": "code",
      "metadata": {
        "id": "gphvOErBVz40",
        "colab_type": "code",
        "colab": {}
      },
      "source": [
        "# Break data down into a training set and a testing set\n",
        "training, testing = cleaned.randomSplit([0.7, 0.3])"
      ],
      "execution_count": 0,
      "outputs": []
    },
    {
      "cell_type": "code",
      "metadata": {
        "id": "Xjz6IEaQV6Nf",
        "colab_type": "code",
        "colab": {}
      },
      "source": [
        "from pyspark.ml.classification import NaiveBayes\n",
        "# Create a Naive Bayes model and fit training data\n",
        "nb = NaiveBayes()\n",
        "predictor = nb.fit(training)"
      ],
      "execution_count": 0,
      "outputs": []
    },
    {
      "cell_type": "code",
      "metadata": {
        "id": "mVAsHBQDWcCT",
        "colab_type": "code",
        "colab": {
          "base_uri": "https://localhost:8080/",
          "height": 224
        },
        "outputId": "0daa1453-381d-46de-d86f-74621ae9327d"
      },
      "source": [
        "test_results = predictor.transform(testing)\n",
        "\n",
        "test_results.show(5, truncate=False)"
      ],
      "execution_count": 164,
      "outputs": [
        {
          "output_type": "stream",
          "text": [
            "+--------------+-----------+-------------+-----------+----+-----+----------+-----------------------+-------------------------------------+-----------------------------------------+-------------------------------------------+----------+\n",
            "|review_id     |star_rating|helpful_votes|total_votes|vine|label|token_text|hash_token             |features                             |rawPrediction                            |probability                                |prediction|\n",
            "+--------------+-----------+-------------+-----------+----+-----+----------+-----------------------+-------------------------------------+-----------------------------------------+-------------------------------------------+----------+\n",
            "|R10094UDVSDL5T|5          |2            |3          |N   |0.0  |[5]       |(262144,[89689],[1.0]) |(262144,[89689],[0.6721867297632954])|[-1.9025558126289972,-13.662263780786656]|[0.999992186954968,7.813045032046427E-6]   |0.0       |\n",
            "|R100CRI2TMIS6I|2          |1            |1          |N   |0.0  |[2]       |(262144,[212053],[1.0])|(262144,[212053],[2.575242925768841])|[-8.656595497018762,-32.07750137246386]  |[0.9999999999326357,6.73643024530672E-11]  |0.0       |\n",
            "|R100LCG40XNIY7|3          |1            |2          |N   |0.0  |[3]       |(262144,[89074],[1.0]) |(262144,[89074],[2.4275702546118914])|[-8.015398591893316,-33.15645885888239]  |[0.9999999999879392,1.2060803917791542E-11]|0.0       |\n",
            "|R100W1LKR71QF2|5          |2            |2          |N   |0.0  |[5]       |(262144,[89689],[1.0]) |(262144,[89689],[0.6721867297632954])|[-1.9025558126289972,-13.662263780786656]|[0.999992186954968,7.813045032046427E-6]   |0.0       |\n",
            "|R10189J172S2Z7|3          |3            |5          |N   |0.0  |[3]       |(262144,[89074],[1.0]) |(262144,[89074],[2.4275702546118914])|[-8.015398591893316,-33.15645885888239]  |[0.9999999999879392,1.2060803917791542E-11]|0.0       |\n",
            "+--------------+-----------+-------------+-----------+----+-----+----------+-----------------------+-------------------------------------+-----------------------------------------+-------------------------------------------+----------+\n",
            "only showing top 5 rows\n",
            "\n"
          ],
          "name": "stdout"
        }
      ]
    },
    {
      "cell_type": "code",
      "metadata": {
        "id": "SYvY-I-HWocr",
        "colab_type": "code",
        "colab": {
          "base_uri": "https://localhost:8080/",
          "height": 34
        },
        "outputId": "15ae325e-460b-40c8-83e8-5152a64d1b45"
      },
      "source": [
        "from pyspark.ml.evaluation import MulticlassClassificationEvaluator\n",
        "acc_eval = MulticlassClassificationEvaluator()\n",
        "acc= acc_eval.evaluate(test_results)\n",
        "\n",
        "print(\"Accuracy of the model at predicting reviews was : %f\" % acc)"
      ],
      "execution_count": 165,
      "outputs": [
        {
          "output_type": "stream",
          "text": [
            "Accuracy of the model at predicting reviews was : 0.998511\n"
          ],
          "name": "stdout"
        }
      ]
    },
    {
      "cell_type": "code",
      "metadata": {
        "id": "a_UCqP2xdLbB",
        "colab_type": "code",
        "colab": {}
      },
      "source": [
        "# 1. The trustworthiness of non vine reviews are way less compared to the vine reviews are the accuracy of predicting non vine reviews is 0.998 ~ 1.\n",
        "# 2. Also the Number of helpful votes were less for vine reviews than non vine reviews."
      ],
      "execution_count": 0,
      "outputs": []
    }
  ]
}