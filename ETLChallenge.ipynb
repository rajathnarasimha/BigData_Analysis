{
  "nbformat": 4,
  "nbformat_minor": 0,
  "metadata": {
    "colab": {
      "name": "ETLChallenge.ipynb",
      "provenance": [],
      "collapsed_sections": []
    },
    "kernelspec": {
      "name": "python3",
      "display_name": "Python 3"
    }
  },
  "cells": [
    {
      "cell_type": "code",
      "metadata": {
        "id": "W1d3ZiCyq2yN",
        "colab_type": "code",
        "colab": {}
      },
      "source": [
        "# Install Java, Spark, and Findspark\n",
        "!apt-get install openjdk-8-jdk-headless -qq > /dev/null\n",
        "!wget -q http://www-us.apache.org/dist/spark/spark-2.4.5/spark-2.4.5-bin-hadoop2.7.tgz\n",
        "!tar xf spark-2.4.5-bin-hadoop2.7.tgz\n",
        "!pip install -q findspark\n",
        "# Set Environment Variables\n",
        "import os\n",
        "os.environ[\"JAVA_HOME\"] = \"/usr/lib/jvm/java-8-openjdk-amd64\"\n",
        "os.environ[\"SPARK_HOME\"] = \"/content/spark-2.4.5-bin-hadoop2.7\"\n",
        "# Start a SparkSession\n",
        "import findspark\n",
        "findspark.init()"
      ],
      "execution_count": 0,
      "outputs": []
    },
    {
      "cell_type": "code",
      "metadata": {
        "id": "t_szbb_grZon",
        "colab_type": "code",
        "outputId": "45092f7c-0feb-4775-948d-7eddb49fdbcd",
        "colab": {
          "base_uri": "https://localhost:8080/",
          "height": 204
        }
      },
      "source": [
        "!wget https://jdbc.postgresql.org/download/postgresql-42.2.9.jar"
      ],
      "execution_count": 3,
      "outputs": [
        {
          "output_type": "stream",
          "text": [
            "--2020-03-25 16:48:49--  https://jdbc.postgresql.org/download/postgresql-42.2.9.jar\n",
            "Resolving jdbc.postgresql.org (jdbc.postgresql.org)... 72.32.157.228, 2001:4800:3e1:1::228\n",
            "Connecting to jdbc.postgresql.org (jdbc.postgresql.org)|72.32.157.228|:443... connected.\n",
            "HTTP request sent, awaiting response... 200 OK\n",
            "Length: 914037 (893K) [application/java-archive]\n",
            "Saving to: ‘postgresql-42.2.9.jar’\n",
            "\n",
            "postgresql-42.2.9.j 100%[===================>] 892.61K  3.66MB/s    in 0.2s    \n",
            "\n",
            "2020-03-25 16:48:50 (3.66 MB/s) - ‘postgresql-42.2.9.jar’ saved [914037/914037]\n",
            "\n"
          ],
          "name": "stdout"
        }
      ]
    },
    {
      "cell_type": "code",
      "metadata": {
        "id": "iSSqbDoercGn",
        "colab_type": "code",
        "colab": {}
      },
      "source": [
        "from pyspark.sql import SparkSession\n",
        "spark = SparkSession.builder.appName(\"ETLChallenge\").config(\"spark.driver.extraClassPath\",\"/content/postgresql-42.2.9.jar\").getOrCreate()"
      ],
      "execution_count": 0,
      "outputs": []
    },
    {
      "cell_type": "code",
      "metadata": {
        "id": "ws34JCkqrkFG",
        "colab_type": "code",
        "outputId": "e830c9e8-8673-4a04-e30e-95b8d488f3b7",
        "colab": {
          "base_uri": "https://localhost:8080/",
          "height": 224
        }
      },
      "source": [
        "#Extract\n",
        "# Read in data from S3 Buckets\n",
        "from pyspark import SparkFiles\n",
        "url =\"https://s3.amazonaws.com/amazon-reviews-pds/tsv/amazon_reviews_us_Lawn_and_Garden_v1_00.tsv.gz\"\n",
        "spark.sparkContext.addFile(url)\n",
        "reveiw_data_df = spark.read.csv(SparkFiles.get(\"amazon_reviews_us_Lawn_and_Garden_v1_00.tsv.gz\"), sep=\"\\t\", header=True)\n",
        "reveiw_data_df.show(5)"
      ],
      "execution_count": 5,
      "outputs": [
        {
          "output_type": "stream",
          "text": [
            "+-----------+-----------+--------------+----------+--------------+--------------------+----------------+-----------+-------------+-----------+----+-----------------+--------------------+--------------------+-----------+\n",
            "|marketplace|customer_id|     review_id|product_id|product_parent|       product_title|product_category|star_rating|helpful_votes|total_votes|vine|verified_purchase|     review_headline|         review_body|review_date|\n",
            "+-----------+-----------+--------------+----------+--------------+--------------------+----------------+-----------+-------------+-----------+----+-----------------+--------------------+--------------------+-----------+\n",
            "|         US|   32787517| RED72VWWCOS7S|B008HDQYLQ|     348668413|Garden Weasel Gar...| Lawn and Garden|          1|            2|          8|   N|                Y|            One Star|I don't hate the ...| 2015-08-31|\n",
            "|         US|   16374060| RZHWQ208LTEPV|B005OBZBD6|     264704759|10 Foot Mc4 Solar...| Lawn and Garden|          5|            0|          0|   N|                Y|          Five Stars|        worked great| 2015-08-31|\n",
            "|         US|    9984817|R37LBC3XAVLYOO|B00RQL8U2G|      95173602|GE String A Long ...| Lawn and Garden|          5|            4|          5|   N|                Y|just what i neede...|just what i neede...| 2015-08-31|\n",
            "|         US|   12635190|R3L7XJMA0MVJWC|B0081SBO4Y|     835659279|Key Pair Lawn Wit...| Lawn and Garden|          5|            0|          0|   N|                Y|                Keys|Needed replacemen...| 2015-08-31|\n",
            "|         US|   43905102|R2I2GHSI7T1UBN|B008E6OK3U|     539243347|Zodiac R0502300 L...| Lawn and Garden|          1|            5|          6|   N|                Y|       Too expensive|Assuming you don'...| 2015-08-31|\n",
            "+-----------+-----------+--------------+----------+--------------+--------------------+----------------+-----------+-------------+-----------+----+-----------------+--------------------+--------------------+-----------+\n",
            "only showing top 5 rows\n",
            "\n"
          ],
          "name": "stdout"
        }
      ]
    },
    {
      "cell_type": "code",
      "metadata": {
        "id": "rtaC7qiGttav",
        "colab_type": "code",
        "outputId": "3f4ad77d-ae6c-4b3f-d876-ada0d8487609",
        "colab": {
          "base_uri": "https://localhost:8080/",
          "height": 34
        }
      },
      "source": [
        "# Count the number of records (rows) in the dataset.\n",
        "reveiw_data_df.count()"
      ],
      "execution_count": 6,
      "outputs": [
        {
          "output_type": "execute_result",
          "data": {
            "text/plain": [
              "2557288"
            ]
          },
          "metadata": {
            "tags": []
          },
          "execution_count": 6
        }
      ]
    },
    {
      "cell_type": "code",
      "metadata": {
        "id": "Q3RK26LZuC1r",
        "colab_type": "code",
        "outputId": "7fbbcee8-3f28-417d-9317-d158b27f9142",
        "colab": {
          "base_uri": "https://localhost:8080/",
          "height": 272
        }
      },
      "source": [
        "reveiw_data_df.dtypes"
      ],
      "execution_count": 7,
      "outputs": [
        {
          "output_type": "execute_result",
          "data": {
            "text/plain": [
              "[('marketplace', 'string'),\n",
              " ('customer_id', 'string'),\n",
              " ('review_id', 'string'),\n",
              " ('product_id', 'string'),\n",
              " ('product_parent', 'string'),\n",
              " ('product_title', 'string'),\n",
              " ('product_category', 'string'),\n",
              " ('star_rating', 'string'),\n",
              " ('helpful_votes', 'string'),\n",
              " ('total_votes', 'string'),\n",
              " ('vine', 'string'),\n",
              " ('verified_purchase', 'string'),\n",
              " ('review_headline', 'string'),\n",
              " ('review_body', 'string'),\n",
              " ('review_date', 'string')]"
            ]
          },
          "metadata": {
            "tags": []
          },
          "execution_count": 7
        }
      ]
    },
    {
      "cell_type": "code",
      "metadata": {
        "id": "L5iYYbbOvYXG",
        "colab_type": "code",
        "colab": {}
      },
      "source": [
        "# Transform\n",
        "#Drop null values from the table\n",
        "dropna_df=reveiw_data_df.dropna()"
      ],
      "execution_count": 0,
      "outputs": []
    },
    {
      "cell_type": "code",
      "metadata": {
        "id": "XDDbTz8Iv8d9",
        "colab_type": "code",
        "outputId": "09a1edfd-8c86-46eb-df58-11539843a8ce",
        "colab": {
          "base_uri": "https://localhost:8080/",
          "height": 34
        }
      },
      "source": [
        "dropna_df.count()"
      ],
      "execution_count": 9,
      "outputs": [
        {
          "output_type": "execute_result",
          "data": {
            "text/plain": [
              "2557005"
            ]
          },
          "metadata": {
            "tags": []
          },
          "execution_count": 9
        }
      ]
    },
    {
      "cell_type": "code",
      "metadata": {
        "id": "sp5C_HJCmUpv",
        "colab_type": "code",
        "colab": {
          "base_uri": "https://localhost:8080/",
          "height": 34
        },
        "outputId": "529831e6-e895-4301-90c1-23e3b4df2fd0"
      },
      "source": [
        "#Drop duplicate values\n",
        "\n",
        "df_dedupe = dropna_df.dropDuplicates(['product_id'])\n",
        "df_reverse = dropna_df.sort(([\"product_id\"]), ascending= False)\n",
        "df_dedupe.join(df_reverse,['product_id'],'inner')\n",
        "#Check for duplicates if any: df_dedupe.groupby(['product_id']).count().where('count > 1').sort('count', ascending=False).show()\n",
        "df_dedupe.count()"
      ],
      "execution_count": 28,
      "outputs": [
        {
          "output_type": "execute_result",
          "data": {
            "text/plain": [
              "282051"
            ]
          },
          "metadata": {
            "tags": []
          },
          "execution_count": 28
        }
      ]
    },
    {
      "cell_type": "code",
      "metadata": {
        "id": "A8v4daij184Z",
        "colab_type": "code",
        "colab": {
          "base_uri": "https://localhost:8080/",
          "height": 34
        },
        "outputId": "137dfd05-c2fd-4999-dde5-968d541e856b"
      },
      "source": [
        "#Drop duplicate values\n",
        "df_dedupe1 = df_dedupe.dropDuplicates(['customer_id'])\n",
        "df_reverse1 = df_dedupe.sort(([\"customer_id\"]), ascending= False)\n",
        "df_dedupe1.join(df_reverse1,['customer_id'],'inner')\n",
        "#Check for duplicates if any: df_dedupe1.groupby(['customer_id']).count().where('count > 1').sort('count', ascending=False).show()\n",
        "df_dedupe1.count()"
      ],
      "execution_count": 49,
      "outputs": [
        {
          "output_type": "execute_result",
          "data": {
            "text/plain": [
              "239332"
            ]
          },
          "metadata": {
            "tags": []
          },
          "execution_count": 49
        }
      ]
    },
    {
      "cell_type": "code",
      "metadata": {
        "id": "ZK8cKccs7J37",
        "colab_type": "code",
        "outputId": "9c29380e-313b-4507-b19b-f33c9b73a3c1",
        "colab": {
          "base_uri": "https://localhost:8080/",
          "height": 272
        }
      },
      "source": [
        "#Clean the datatypes according to the SQL schema\n",
        "cleaned_df = df_dedupe1.withColumn(\"customer_id\",df_dedupe1[\"customer_id\"].cast('int'))\n",
        "cleaned_df = cleaned_df.withColumn(\"product_parent\",cleaned_df[\"product_parent\"].cast('int'))\n",
        "cleaned_df = cleaned_df.withColumn(\"review_date\",cleaned_df[\"review_date\"].cast('date'))\n",
        "cleaned_df = cleaned_df.withColumn(\"star_rating\",cleaned_df[\"star_rating\"].cast('int'))\n",
        "cleaned_df = cleaned_df.withColumn(\"helpful_votes\",cleaned_df[\"helpful_votes\"].cast('int'))\n",
        "cleaned_df = cleaned_df.withColumn(\"total_votes\",cleaned_df[\"total_votes\"].cast('int'))\n",
        "cleaned_df.dtypes"
      ],
      "execution_count": 52,
      "outputs": [
        {
          "output_type": "execute_result",
          "data": {
            "text/plain": [
              "[('marketplace', 'string'),\n",
              " ('customer_id', 'int'),\n",
              " ('review_id', 'string'),\n",
              " ('product_id', 'string'),\n",
              " ('product_parent', 'int'),\n",
              " ('product_title', 'string'),\n",
              " ('product_category', 'string'),\n",
              " ('star_rating', 'int'),\n",
              " ('helpful_votes', 'int'),\n",
              " ('total_votes', 'int'),\n",
              " ('vine', 'string'),\n",
              " ('verified_purchase', 'string'),\n",
              " ('review_headline', 'string'),\n",
              " ('review_body', 'string'),\n",
              " ('review_date', 'date')]"
            ]
          },
          "metadata": {
            "tags": []
          },
          "execution_count": 52
        }
      ]
    },
    {
      "cell_type": "code",
      "metadata": {
        "id": "LCrOehcC7TpN",
        "colab_type": "code",
        "outputId": "cef4d881-1390-43e3-f19c-f7e16b550bb3",
        "colab": {
          "base_uri": "https://localhost:8080/",
          "height": 34
        }
      },
      "source": [
        "cleaned_df.count()"
      ],
      "execution_count": 53,
      "outputs": [
        {
          "output_type": "execute_result",
          "data": {
            "text/plain": [
              "239332"
            ]
          },
          "metadata": {
            "tags": []
          },
          "execution_count": 53
        }
      ]
    },
    {
      "cell_type": "code",
      "metadata": {
        "id": "vncM3qdJynES",
        "colab_type": "code",
        "outputId": "d9e99d3a-4146-4d09-c9bd-bf798bbcbdf3",
        "colab": {
          "base_uri": "https://localhost:8080/",
          "height": 479
        }
      },
      "source": [
        "#Customer_count in the SQL schema is not present in the input tsv file hence generating a new column with the same name and assiging row number.\n",
        "from pyspark.sql.window import Window as W\n",
        "from pyspark.sql import functions as F\n",
        "cleaned_df = cleaned_df.withColumn(\"customer_count\", F.monotonically_increasing_id())\n",
        "windowSpec = W.orderBy(\"customer_count\")\n",
        "cleaned_df.withColumn(\"customer_count\", F.row_number().over(windowSpec)).show()\n"
      ],
      "execution_count": 54,
      "outputs": [
        {
          "output_type": "stream",
          "text": [
            "+-----------+-----------+--------------+----------+--------------+--------------------+----------------+-----------+-------------+-----------+----+-----------------+--------------------+--------------------+-----------+--------------+\n",
            "|marketplace|customer_id|     review_id|product_id|product_parent|       product_title|product_category|star_rating|helpful_votes|total_votes|vine|verified_purchase|     review_headline|         review_body|review_date|customer_count|\n",
            "+-----------+-----------+--------------+----------+--------------+--------------------+----------------+-----------+-------------+-----------+----+-----------------+--------------------+--------------------+-----------+--------------+\n",
            "|         US|   10051712| R9KINVU1IPPSK|B00R4J5MXK|     837522199|Classic Accessori...| Lawn and Garden|          5|            0|          0|   N|                Y|This is the best ...|This is the best ...| 2015-08-28|             1|\n",
            "|         US|   10071195| RE5A9O6LHLG2G|B004KZIRH4|     506183384|Woodstock Rainbow...| Lawn and Garden|          5|            0|          0|   N|                Y|     Very cute angel|I bought this to ...| 2015-07-10|             2|\n",
            "|         US|   10083273|R1GA2NEWA59GC6|B002EP9NPC|     709527911|Prime Line 7-0275...| Lawn and Garden|          5|            0|          0|   N|                Y|        Dust blocker|Shipped quick and...| 2015-07-17|             3|\n",
            "|         US|   10161565|R2SQGNB7Z5D6HB|B0074NG19U|     228745884|Senz \"Smart S\" Fo...| Lawn and Garden|          3|            0|          0|   N|                Y|       nice umbrella|funky shape is so...| 2013-06-26|             4|\n",
            "|         US|   10163080| RDL4YQ44J3FF5|B006VDIDOK|     325989478|Large Granite Col...| Lawn and Garden|          5|            0|          0|   N|                Y|  Satisfies my needs|Huge planter, so ...| 2013-06-20|             5|\n",
            "|         US|   10182946|R2CO2U4NIBWA3N|B00AWIBTEQ|      59455979|Sanrio Hello Kitt...| Lawn and Garden|          4|            0|          0|   N|                Y|          Four Stars|                  ok| 2014-10-09|             6|\n",
            "|         US|   10189147| RGBR8EHESHMHY|B008RCYAH2|     674305705|Black Carpet Area...| Lawn and Garden|          3|            0|          0|   N|                Y|         Three Stars|Was not as plush ...| 2015-03-25|             7|\n",
            "|         US|   10241378|R1ZB3UM4N9GETC|B00D8H87MA|     287084771|Herb Seeds - Lemo...| Lawn and Garden|          2|            0|          1|   N|                Y|  It's grass people!|I counted out 485...| 2014-09-29|             8|\n",
            "|         US|   10245571|R3LE2IVRQ34VXT|B00V024NA0|     950540470|PoolSupplyTown Af...| Lawn and Garden|          5|            0|          0|   N|                Y|          Five Stars|            it works| 2015-08-31|             9|\n",
            "|         US|   10250915|R3TJS8SOYA8H89|B00TXWTKJI|     640477051|75+ Flowering Ann...| Lawn and Garden|          4|            1|          3|   N|                Y|Sprouted and the ...|They sprouted I'm...| 2015-04-12|            10|\n",
            "|         US|   10286637| R67ERPGRVGUBO|B002WQUYRE|     421605480|Refurbished Blue ...| Lawn and Garden|          4|            3|          3|   N|                Y|         Great value|I couldn't find t...| 2010-06-08|            11|\n",
            "|         US|   10288144|R3JDVWERRIOOIJ|B004LEC5XG|     892068840|Portable Solar Ge...| Lawn and Garden|          5|            1|          1|   N|                Y|           Satisfied|I solved my probl...| 2013-04-26|            12|\n",
            "|         US|   10298499| RSADCPIA1GL70|B00LO1TBJK|     573000034|Full Color Revers...| Lawn and Garden|          4|            0|          0|   N|                Y|  it a good product.|Im happy with my ...| 2015-04-06|            13|\n",
            "|         US|   10385983|R2QJRZJJHTD00U|B002CJMMKI|     895735616|Fire Sense Missio...| Lawn and Garden|          1|            0|          2|   N|                Y|             cracked|I purchased this ...| 2014-04-12|            14|\n",
            "|         US|   10400282|R1SYEU7SMDHNWG|B003OGAVQA|     922017268|RST Outdoor Delan...| Lawn and Garden|          2|            1|          1|   N|                Y|RST outdoor Delan...|We were very plea...| 2013-03-17|            15|\n",
            "|         US|   10404227|R37E2OI3GHJ9A9|B00VGZBKW0|     562756505|Jingle Scroll Win...| Lawn and Garden|          5|            0|          0|   N|                Y|          Five Stars|           Very nice| 2015-07-20|            16|\n",
            "|         US|   10410414|R16J714H4PL4LH|B000VLKWMY|      86399925|NorthLight 60 in....| Lawn and Garden|          1|            2|          2|   N|                Y|Won't last one se...|It lookED nice on...| 2011-12-16|            17|\n",
            "|         US|   10416328|R1INTWMTXLSHJA|B00ISP17EM|     579869598|Sun Visor Eyeglas...| Lawn and Garden|          3|            0|          0|   N|                N|         Three Stars|       Chinese stuff| 2014-09-25|            18|\n",
            "|         US|   10472453|R1JQ22ZZC59SOX|B00QVER5I4|     278499335|DeWit Japanese Ha...| Lawn and Garden|          5|            0|          0|   N|                Y|This company's ma...|         Great tool!| 2015-06-27|            19|\n",
            "|         US|   10489445|R12T139KTFKA6T|B001SCNWAE|     690953525|Oregon 72-050 Ant...| Lawn and Garden|          1|            0|          0|   N|                Y|Did not last the ...|Didn't last the f...| 2015-03-26|            20|\n",
            "+-----------+-----------+--------------+----------+--------------+--------------------+----------------+-----------+-------------+-----------+----+-----------------+--------------------+--------------------+-----------+--------------+\n",
            "only showing top 20 rows\n",
            "\n"
          ],
          "name": "stdout"
        }
      ]
    },
    {
      "cell_type": "code",
      "metadata": {
        "id": "BKuqGqFO2mRA",
        "colab_type": "code",
        "outputId": "d706809c-cbac-4d0c-ad13-c883c2d56789",
        "colab": {
          "base_uri": "https://localhost:8080/",
          "height": 34
        }
      },
      "source": [
        "cleaned_df.count()"
      ],
      "execution_count": 55,
      "outputs": [
        {
          "output_type": "execute_result",
          "data": {
            "text/plain": [
              "239332"
            ]
          },
          "metadata": {
            "tags": []
          },
          "execution_count": 55
        }
      ]
    },
    {
      "cell_type": "code",
      "metadata": {
        "id": "-zLtJClq1kKt",
        "colab_type": "code",
        "colab": {
          "base_uri": "https://localhost:8080/",
          "height": 289
        },
        "outputId": "2cb4822f-c479-4581-ece6-c1f3b26d6d68"
      },
      "source": [
        "cleaned_df.dtypes"
      ],
      "execution_count": 56,
      "outputs": [
        {
          "output_type": "execute_result",
          "data": {
            "text/plain": [
              "[('marketplace', 'string'),\n",
              " ('customer_id', 'int'),\n",
              " ('review_id', 'string'),\n",
              " ('product_id', 'string'),\n",
              " ('product_parent', 'int'),\n",
              " ('product_title', 'string'),\n",
              " ('product_category', 'string'),\n",
              " ('star_rating', 'int'),\n",
              " ('helpful_votes', 'int'),\n",
              " ('total_votes', 'int'),\n",
              " ('vine', 'string'),\n",
              " ('verified_purchase', 'string'),\n",
              " ('review_headline', 'string'),\n",
              " ('review_body', 'string'),\n",
              " ('review_date', 'date'),\n",
              " ('customer_count', 'bigint')]"
            ]
          },
          "metadata": {
            "tags": []
          },
          "execution_count": 56
        }
      ]
    },
    {
      "cell_type": "code",
      "metadata": {
        "id": "O_A6tX9MAXxH",
        "colab_type": "code",
        "outputId": "7a89d75e-392c-47bb-9171-05a7ee069e26",
        "colab": {
          "base_uri": "https://localhost:8080/",
          "height": 204
        }
      },
      "source": [
        "cleaned_review_df = cleaned_df.select([\"review_id\", \"customer_id\", \"product_id\",\"product_parent\", \"review_date\"])\n",
        "cleaned_review_df.show(5)"
      ],
      "execution_count": 57,
      "outputs": [
        {
          "output_type": "stream",
          "text": [
            "+--------------+-----------+----------+--------------+-----------+\n",
            "|     review_id|customer_id|product_id|product_parent|review_date|\n",
            "+--------------+-----------+----------+--------------+-----------+\n",
            "| RLOCQ7LBE7456|   10000472|B00AEBIBCO|     642709840| 2015-08-16|\n",
            "| R9KINVU1IPPSK|   10051712|B00R4J5MXK|     837522199| 2015-08-28|\n",
            "| RE5A9O6LHLG2G|   10071195|B004KZIRH4|     506183384| 2015-07-10|\n",
            "|R1GA2NEWA59GC6|   10083273|B002EP9NPC|     709527911| 2015-07-17|\n",
            "| RDL4YQ44J3FF5|   10163080|B006VDIDOK|     325989478| 2013-06-20|\n",
            "+--------------+-----------+----------+--------------+-----------+\n",
            "only showing top 5 rows\n",
            "\n"
          ],
          "name": "stdout"
        }
      ]
    },
    {
      "cell_type": "code",
      "metadata": {
        "id": "MGuWGlOOBFjL",
        "colab_type": "code",
        "outputId": "8366c587-e6f4-4966-af56-1a18ee424d78",
        "colab": {
          "base_uri": "https://localhost:8080/",
          "height": 204
        }
      },
      "source": [
        "cleaned_products_df = cleaned_df.select([\"product_id\", \"product_title\"])\n",
        "cleaned_products_df.show(5)"
      ],
      "execution_count": 58,
      "outputs": [
        {
          "output_type": "stream",
          "text": [
            "+----------+--------------------+\n",
            "|product_id|       product_title|\n",
            "+----------+--------------------+\n",
            "|B00AEBIBCO|Growstone Super S...|\n",
            "|B00R4J5MXK|Classic Accessori...|\n",
            "|B004KZIRH4|Woodstock Rainbow...|\n",
            "|B002EP9NPC|Prime Line 7-0275...|\n",
            "|B006VDIDOK|Large Granite Col...|\n",
            "+----------+--------------------+\n",
            "only showing top 5 rows\n",
            "\n"
          ],
          "name": "stdout"
        }
      ]
    },
    {
      "cell_type": "code",
      "metadata": {
        "id": "pT5ECK9UBTAj",
        "colab_type": "code",
        "outputId": "b27c8f7f-e04a-45a9-96c8-ad9e69392c7d",
        "colab": {
          "base_uri": "https://localhost:8080/",
          "height": 204
        }
      },
      "source": [
        "cleaned_customers_df = cleaned_df.select([\"customer_id\", \"customer_count\"])\n",
        "cleaned_customers_df.show(5)"
      ],
      "execution_count": 59,
      "outputs": [
        {
          "output_type": "stream",
          "text": [
            "+-----------+--------------+\n",
            "|customer_id|customer_count|\n",
            "+-----------+--------------+\n",
            "|   17413645|             0|\n",
            "|   47796954|             1|\n",
            "|   27484443|             2|\n",
            "|   14168385|             3|\n",
            "|   34371339|             4|\n",
            "+-----------+--------------+\n",
            "only showing top 5 rows\n",
            "\n"
          ],
          "name": "stdout"
        }
      ]
    },
    {
      "cell_type": "code",
      "metadata": {
        "id": "ZvSxX7XgBfk_",
        "colab_type": "code",
        "outputId": "433ef0aa-6852-45f8-ecba-4181ae39da28",
        "colab": {
          "base_uri": "https://localhost:8080/",
          "height": 204
        }
      },
      "source": [
        "vine_table_df = cleaned_df.select([\"review_id\", \"star_rating\", \"helpful_votes\",\"total_votes\", \"vine\"])\n",
        "vine_table_df.show(5)"
      ],
      "execution_count": 60,
      "outputs": [
        {
          "output_type": "stream",
          "text": [
            "+--------------+-----------+-------------+-----------+----+\n",
            "|     review_id|star_rating|helpful_votes|total_votes|vine|\n",
            "+--------------+-----------+-------------+-----------+----+\n",
            "| RLOCQ7LBE7456|          5|            0|          0|   N|\n",
            "| R9KINVU1IPPSK|          5|            0|          0|   N|\n",
            "| RE5A9O6LHLG2G|          5|            0|          0|   N|\n",
            "|R1GA2NEWA59GC6|          5|            0|          0|   N|\n",
            "| RDL4YQ44J3FF5|          5|            0|          0|   N|\n",
            "+--------------+-----------+-------------+-----------+----+\n",
            "only showing top 5 rows\n",
            "\n"
          ],
          "name": "stdout"
        }
      ]
    },
    {
      "cell_type": "code",
      "metadata": {
        "id": "MLk6BSL7B_D5",
        "colab_type": "code",
        "colab": {}
      },
      "source": [
        "# Load\n",
        "# Configure settings for RDS\n",
        "mode = \"append\"\n",
        "jdbc_url=\"jdbc:postgresql://database-1.coxa50m0widb.us-east-2.rds.amazonaws.com:5432/challenge_db\"\n",
        "config = {\"user\":\"postgres\",\n",
        "          \"password\": \"Asdf1234*\",\n",
        "          \"driver\":\"org.postgresql.Driver\"}"
      ],
      "execution_count": 0,
      "outputs": []
    },
    {
      "cell_type": "code",
      "metadata": {
        "id": "psDPEjNKCRWp",
        "colab_type": "code",
        "colab": {}
      },
      "source": [
        "# Write DataFrame to review_id_table in RDS\n",
        "cleaned_review_df.write.jdbc(url=jdbc_url, table='review_id_table', mode=mode, properties=config)"
      ],
      "execution_count": 0,
      "outputs": []
    },
    {
      "cell_type": "code",
      "metadata": {
        "id": "WqEXrqhyCSWR",
        "colab_type": "code",
        "colab": {}
      },
      "source": [
        "# Write DataFrame to products table in RDS\n",
        "cleaned_products_df.write.jdbc(url=jdbc_url, table='products', mode=mode, properties=config)"
      ],
      "execution_count": 0,
      "outputs": []
    },
    {
      "cell_type": "code",
      "metadata": {
        "id": "eo7SuKXPCS4K",
        "colab_type": "code",
        "colab": {}
      },
      "source": [
        "# Write DataFrame to customers table in RDS\n",
        "cleaned_customers_df.write.jdbc(url=jdbc_url, table='customers', mode=mode, properties=config)"
      ],
      "execution_count": 0,
      "outputs": []
    },
    {
      "cell_type": "code",
      "metadata": {
        "id": "mF-xTVQACVog",
        "colab_type": "code",
        "colab": {}
      },
      "source": [
        "# Write DataFrame to vine_table in RDS\n",
        "vine_table_df.write.jdbc(url=jdbc_url, table='vine_table', mode=mode, properties=config)"
      ],
      "execution_count": 0,
      "outputs": []
    }
  ]
}